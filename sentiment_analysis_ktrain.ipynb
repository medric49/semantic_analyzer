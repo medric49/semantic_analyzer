{
 "cells": [
  {
   "cell_type": "code",
   "execution_count": 1,
   "metadata": {},
   "outputs": [],
   "source": [
    "import ktrain\n",
    "from ktrain import text as txt\n",
    "\n",
    "import os\n",
    "os.environ[\"CUDA_DEVICE_ORDER\"]=\"PCI_BUS_ID\";\n",
    "os.environ[\"CUDA_VISIBLE_DEVICES\"]=\"0\"; "
   ]
  },
  {
   "cell_type": "code",
   "execution_count": 2,
   "metadata": {},
   "outputs": [
    {
     "name": "stdout",
     "output_type": "stream",
     "text": [
      "detected encoding: utf-8 (if wrong, set manually)\n",
      "['label_0', 'label_1', 'label_2']\n",
      "   label_0  label_1  label_2\n",
      "0      1.0      0.0      0.0\n",
      "1      0.0      1.0      0.0\n",
      "2      0.0      1.0      0.0\n",
      "3      1.0      0.0      0.0\n",
      "4      1.0      0.0      0.0\n",
      "['label_0', 'label_1', 'label_2']\n",
      "   label_0  label_1  label_2\n",
      "0      1.0      0.0      0.0\n",
      "1      1.0      0.0      0.0\n",
      "2      1.0      0.0      0.0\n",
      "3      0.0      0.0      1.0\n",
      "4      1.0      0.0      0.0\n",
      "preprocessing train...\n",
      "language: en\n"
     ]
    },
    {
     "data": {
      "text/html": [
       "done."
      ],
      "text/plain": [
       "<IPython.core.display.HTML object>"
      ]
     },
     "metadata": {},
     "output_type": "display_data"
    },
    {
     "name": "stdout",
     "output_type": "stream",
     "text": [
      "Is Multi-Label? False\n",
      "preprocessing test...\n",
      "language: en\n"
     ]
    },
    {
     "data": {
      "text/html": [
       "done."
      ],
      "text/plain": [
       "<IPython.core.display.HTML object>"
      ]
     },
     "metadata": {},
     "output_type": "display_data"
    }
   ],
   "source": [
    "data = txt.texts_from_csv('data/sentiment_treebank/train.csv', text_column='text',\n",
    "                                                                   label_columns=['label'],\n",
    "                                                                   val_filepath='data/sentiment_treebank/eval.csv',\n",
    "                                                                     preprocess_mode='bert',)"
   ]
  },
  {
   "cell_type": "code",
   "execution_count": 3,
   "metadata": {},
   "outputs": [
    {
     "data": {
      "text/plain": [
       "(([array([[  101,  1037,  2844, ...,     0,     0,     0],\n",
       "          [  101,  2061,  2116, ...,     0,     0,     0],\n",
       "          [  101,  9951,  1012, ...,     0,     0,     0],\n",
       "          ...,\n",
       "          [  101, 16254,  2121, ...,     0,     0,     0],\n",
       "          [  101,  2009,  1005, ...,     0,     0,     0],\n",
       "          [  101,  1037,  4010, ...,     0,     0,     0]]),\n",
       "   array([[0, 0, 0, ..., 0, 0, 0],\n",
       "          [0, 0, 0, ..., 0, 0, 0],\n",
       "          [0, 0, 0, ..., 0, 0, 0],\n",
       "          ...,\n",
       "          [0, 0, 0, ..., 0, 0, 0],\n",
       "          [0, 0, 0, ..., 0, 0, 0],\n",
       "          [0, 0, 0, ..., 0, 0, 0]])],\n",
       "  array([[1., 0., 0.],\n",
       "         [0., 1., 0.],\n",
       "         [0., 1., 0.],\n",
       "         ...,\n",
       "         [0., 1., 0.],\n",
       "         [0., 1., 0.],\n",
       "         [0., 0., 1.]], dtype=float32)),\n",
       " ([array([[  101,  1037, 23069, ...,     0,     0,     0],\n",
       "          [  101,  2172,  2038, ...,     0,     0,     0],\n",
       "          [  101,  1037,  3185, ...,     0,     0,     0],\n",
       "          ...,\n",
       "          [  101,  1012,  1012, ...,     0,     0,     0],\n",
       "          [  101,  2776,  1010, ...,     0,     0,     0],\n",
       "          [  101,  1036,  1037, ...,     0,     0,     0]]),\n",
       "   array([[0, 0, 0, ..., 0, 0, 0],\n",
       "          [0, 0, 0, ..., 0, 0, 0],\n",
       "          [0, 0, 0, ..., 0, 0, 0],\n",
       "          ...,\n",
       "          [0, 0, 0, ..., 0, 0, 0],\n",
       "          [0, 0, 0, ..., 0, 0, 0],\n",
       "          [0, 0, 0, ..., 0, 0, 0]])],\n",
       "  array([[1., 0., 0.],\n",
       "         [1., 0., 0.],\n",
       "         [1., 0., 0.],\n",
       "         ...,\n",
       "         [1., 0., 0.],\n",
       "         [1., 0., 0.],\n",
       "         [0., 0., 1.]], dtype=float32)),\n",
       " <ktrain.text.preprocessor.BERTPreprocessor at 0x7f6dc8499040>)"
      ]
     },
     "execution_count": 3,
     "metadata": {},
     "output_type": "execute_result"
    }
   ],
   "source": [
    "data"
   ]
  },
  {
   "cell_type": "code",
   "execution_count": 4,
   "metadata": {},
   "outputs": [],
   "source": [
    "(x_train, y_train), (x_test, y_test), preproc = data"
   ]
  },
  {
   "cell_type": "code",
   "execution_count": 5,
   "metadata": {},
   "outputs": [
    {
     "data": {
      "text/plain": [
       "[array([[  101,  1037,  2844, ...,     0,     0,     0],\n",
       "        [  101,  2061,  2116, ...,     0,     0,     0],\n",
       "        [  101,  9951,  1012, ...,     0,     0,     0],\n",
       "        ...,\n",
       "        [  101, 16254,  2121, ...,     0,     0,     0],\n",
       "        [  101,  2009,  1005, ...,     0,     0,     0],\n",
       "        [  101,  1037,  4010, ...,     0,     0,     0]]),\n",
       " array([[0, 0, 0, ..., 0, 0, 0],\n",
       "        [0, 0, 0, ..., 0, 0, 0],\n",
       "        [0, 0, 0, ..., 0, 0, 0],\n",
       "        ...,\n",
       "        [0, 0, 0, ..., 0, 0, 0],\n",
       "        [0, 0, 0, ..., 0, 0, 0],\n",
       "        [0, 0, 0, ..., 0, 0, 0]])]"
      ]
     },
     "execution_count": 5,
     "metadata": {},
     "output_type": "execute_result"
    }
   ],
   "source": [
    "x_train"
   ]
  },
  {
   "cell_type": "code",
   "execution_count": 6,
   "metadata": {},
   "outputs": [
    {
     "name": "stdout",
     "output_type": "stream",
     "text": [
      "Is Multi-Label? False\n",
      "maxlen is 400\n",
      "done.\n"
     ]
    }
   ],
   "source": [
    "model = txt.text_classifier('bert', (x_train, y_train), preproc=preproc)\n",
    "\n",
    "# wrap model and data in ktrain.Learner object\n",
    "learner = ktrain.get_learner(model, \n",
    "                             train_data=(x_train, y_train), \n",
    "                             val_data=(x_test, y_test), \n",
    "                             batch_size=6)"
   ]
  },
  {
   "cell_type": "code",
   "execution_count": null,
   "metadata": {},
   "outputs": [
    {
     "name": "stdout",
     "output_type": "stream",
     "text": [
      "simulating training for different learning rates... this may take a few moments...\n"
     ]
    },
    {
     "name": "stderr",
     "output_type": "stream",
     "text": [
      "/home/medric/.local/lib/python3.8/site-packages/keras/engine/functional.py:1410: CustomMaskWarning: Custom mask layers require a config and must override get_config. When loading, the custom mask layer must be passed to the custom_objects argument.\n",
      "  layer_config = serialize_layer_fn(layer)\n"
     ]
    },
    {
     "name": "stdout",
     "output_type": "stream",
     "text": [
      "Epoch 1/10\n",
      "   4/1581 [..............................] - ETA: 3:33:03 - loss: 0.9311 - accuracy: 0.6667"
     ]
    }
   ],
   "source": [
    "# find good learning rate\n",
    "learner.lr_find(max_epochs=10)             # briefly simulate training to find good learning rate\n",
    "learner.lr_plot()             # visually identify best learning rate\n",
    "\n",
    "# train using 1cycle learning rate schedule for 3 epochs\n",
    "learner.fit_onecycle(2e-5, 3) "
   ]
  },
  {
   "cell_type": "code",
   "execution_count": null,
   "metadata": {},
   "outputs": [],
   "source": []
  }
 ],
 "metadata": {
  "kernelspec": {
   "display_name": "Python 3",
   "language": "python",
   "name": "python3"
  },
  "language_info": {
   "codemirror_mode": {
    "name": "ipython",
    "version": 3
   },
   "file_extension": ".py",
   "mimetype": "text/x-python",
   "name": "python",
   "nbconvert_exporter": "python",
   "pygments_lexer": "ipython3",
   "version": "3.8.10"
  }
 },
 "nbformat": 4,
 "nbformat_minor": 4
}
