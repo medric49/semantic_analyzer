{
 "cells": [
  {
   "cell_type": "code",
   "execution_count": 1,
   "metadata": {},
   "outputs": [],
   "source": [
    "import pandas as pd\n",
    "from gensim import models\n",
    "import numpy as np\n",
    "import gensim\n",
    "import gensim.downloader\n",
    "from tqdm import tqdm\n",
    "import time"
   ]
  },
  {
   "cell_type": "markdown",
   "metadata": {},
   "source": [
    "## Dataset"
   ]
  },
  {
   "cell_type": "code",
   "execution_count": 2,
   "metadata": {},
   "outputs": [],
   "source": [
    "df_sentences = pd.read_csv('data/stanfordSentimentTreebank/datasetSentences.txt', header=0, delimiter='\\t', index_col=0)\n",
    "df_labels = pd.read_csv('data/stanfordSentimentTreebank/datasetSplit.txt', header=0, delimiter=',', index_col='sentence_index')"
   ]
  },
  {
   "cell_type": "code",
   "execution_count": 3,
   "metadata": {},
   "outputs": [],
   "source": [
    "sentences = df_sentences['sentence'].to_list()\n",
    "sentences = [sentence.lower().split() for sentence in sentences]\n",
    "labels = df_labels['splitset_label'].to_list()"
   ]
  },
  {
   "cell_type": "code",
   "execution_count": 4,
   "metadata": {},
   "outputs": [],
   "source": [
    "max_length = -np.inf\n",
    "for sentence in sentences:\n",
    "    if len(sentence) > max_length:\n",
    "        max_length = len(sentence)"
   ]
  },
  {
   "cell_type": "code",
   "execution_count": 5,
   "metadata": {},
   "outputs": [
    {
     "data": {
      "text/plain": [
       "56"
      ]
     },
     "execution_count": 5,
     "metadata": {},
     "output_type": "execute_result"
    }
   ],
   "source": [
    "max_length"
   ]
  },
  {
   "cell_type": "markdown",
   "metadata": {},
   "source": [
    "## Word Embeddings"
   ]
  },
  {
   "cell_type": "code",
   "execution_count": 6,
   "metadata": {},
   "outputs": [],
   "source": [
    "vector_size = 50\n",
    "window_size = 5\n",
    "negative_size = 15\n",
    "sentence_size = 60\n",
    "\n",
    "wv_model_file = 'wv_model.pth'"
   ]
  },
  {
   "cell_type": "code",
   "execution_count": 7,
   "metadata": {},
   "outputs": [],
   "source": [
    "# wv_model = gensim.downloader.load('glove-wiki-gigaword-50')\n",
    "# wv_model = models.Word2Vec(sentences=sentences, vector_size=vector_size, window=window_size, negative=negative_size).wv\n",
    "# wv_model = models.Word2Vec(corpus_file='data/corpus.txt', vector_size=vector_size, window=window_size, negative=negative_size).wv\n",
    "\n",
    "# wv_model.save(wv_model_file)\n",
    "# del wv_model"
   ]
  },
  {
   "cell_type": "code",
   "execution_count": 8,
   "metadata": {},
   "outputs": [],
   "source": [
    "def vectorize_sentences(sentences, wv, sentence_size):\n",
    "    vec_sentences = []\n",
    "    for sentence in sentences:\n",
    "        vec_sentence = []\n",
    "        for token in sentence:\n",
    "            if token in wv:\n",
    "                vec_sentence.append(wv[token])\n",
    "            else:\n",
    "                vec_sentence.append(wv['<unk>'])\n",
    "        \n",
    "        \n",
    "        while len(vec_sentence) < sentence_size:\n",
    "            vec_sentence.append(wv['<eos>'])\n",
    "        \n",
    "        vec_sentence = vec_sentence[:sentence_size]\n",
    "        vec_sentences.append(vec_sentence)\n",
    "        \n",
    "    return vec_sentences"
   ]
  },
  {
   "cell_type": "code",
   "execution_count": 9,
   "metadata": {},
   "outputs": [],
   "source": [
    "wv = models.KeyedVectors.load(wv_model_file)"
   ]
  },
  {
   "cell_type": "code",
   "execution_count": 10,
   "metadata": {},
   "outputs": [],
   "source": [
    "wv.add_vectors(\n",
    "    ['<unk>', '<eos>'],\n",
    "    [np.zeros(wv.vector_size), np.ones(wv.vector_size)]\n",
    ")"
   ]
  },
  {
   "cell_type": "markdown",
   "metadata": {},
   "source": [
    "## BiLSTM"
   ]
  },
  {
   "cell_type": "code",
   "execution_count": 11,
   "metadata": {},
   "outputs": [],
   "source": [
    "import torch\n",
    "from torch import nn\n",
    "from torch.nn.utils.rnn import pack_padded_sequence, pad_packed_sequence"
   ]
  },
  {
   "cell_type": "code",
   "execution_count": 12,
   "metadata": {},
   "outputs": [],
   "source": [
    "if torch.cuda.is_available():\n",
    "    device = torch.device('cuda')\n",
    "else:\n",
    "    device = torch.device('cpu')"
   ]
  },
  {
   "cell_type": "code",
   "execution_count": 13,
   "metadata": {},
   "outputs": [],
   "source": [
    "def save_model(model, file_name):\n",
    "    torch.save(model.state_dict(), file_name)\n",
    "def load_model(model, file_name):\n",
    "    return model.load_state_dict(torch.load(file_name))"
   ]
  },
  {
   "cell_type": "code",
   "execution_count": 14,
   "metadata": {},
   "outputs": [],
   "source": [
    "hidden_size = 512\n",
    "num_layers = 6\n",
    "bidirectional = True\n",
    "\n",
    "batch_size = 128\n",
    "\n",
    "lr = 0.0001\n",
    "num_epochs = 20\n",
    "\n",
    "\n",
    "eval_rate = 0.2\n",
    "\n",
    "model_file = 'lstm_sentiment_analysis.pth'"
   ]
  },
  {
   "cell_type": "code",
   "execution_count": 15,
   "metadata": {},
   "outputs": [],
   "source": [
    "vec_sentences = vectorize_sentences(sentences, wv, sentence_size)\n",
    "\n",
    "vec_sentences = np.array(vec_sentences)"
   ]
  },
  {
   "cell_type": "code",
   "execution_count": 16,
   "metadata": {},
   "outputs": [],
   "source": [
    "vectors = vec_sentences.reshape((-1, 50))\n",
    "\n",
    "mu = vectors.mean(axis=0)\n",
    "sigma = np.sqrt(((vectors - mu) ** 2).mean(axis=0))"
   ]
  },
  {
   "cell_type": "code",
   "execution_count": 17,
   "metadata": {},
   "outputs": [],
   "source": [
    "normalized_vec_sentences = (vec_sentences - mu) / sigma"
   ]
  },
  {
   "cell_type": "code",
   "execution_count": 18,
   "metadata": {},
   "outputs": [],
   "source": [
    "eval_index = int(len(normalized_vec_sentences) * eval_rate)\n",
    "\n",
    "\n",
    "train_x = vec_sentences[eval_index:]\n",
    "eval_x = vec_sentences[:eval_index]\n",
    "\n",
    "train_y = labels[eval_index:]\n",
    "eval_y = labels[:eval_index]"
   ]
  },
  {
   "cell_type": "code",
   "execution_count": 19,
   "metadata": {},
   "outputs": [],
   "source": [
    "train_x = torch.tensor(train_x, dtype=torch.float)\n",
    "eval_x = torch.tensor(eval_x, dtype=torch.float)\n",
    "\n",
    "train_y = torch.tensor(train_y, dtype=torch.long) - 1\n",
    "eval_y = torch.tensor(eval_y, dtype=torch.long) - 1\n",
    "\n",
    "train_loader = torch.utils.data.DataLoader(list(zip(train_x, train_y)), batch_size, shuffle=True)\n",
    "eval_loader = torch.utils.data.DataLoader(list(zip(eval_x, eval_y)), batch_size)"
   ]
  },
  {
   "cell_type": "code",
   "execution_count": 20,
   "metadata": {},
   "outputs": [],
   "source": [
    "class Classifier(nn.Module):\n",
    "    \n",
    "    def __init__(self):\n",
    "        super(Classifier, self).__init__()\n",
    "        lstm_dim = hidden_size * 2 * (2 if bidirectional else 1)\n",
    "        \n",
    "        \n",
    "        self.lstm = nn.LSTM(input_size=vector_size,\n",
    "                              hidden_size=hidden_size,\n",
    "                              num_layers=num_layers,\n",
    "                              bidirectional=bidirectional,\n",
    "                              batch_first=True\n",
    "                             )\n",
    "        self.dropout = nn.Dropout(p=0.5)\n",
    "\n",
    "        \n",
    "        self.fcnn_1 = nn.Linear(in_features=lstm_dim, out_features=64)\n",
    "        self.b_norm_1 = nn.BatchNorm1d(64)\n",
    "        \n",
    "        self.fcnn_2 = nn.Linear(in_features=64, out_features=3)\n",
    "        \n",
    "        \n",
    "    def forward(self, sentences):\n",
    "        # sentences = pack_padded_sequence(sentences, sentence_size, batch_first=True, enforce_sorted=False)\n",
    "        h_lstm, _ = self.lstm(sentences)\n",
    "        # output, _ = pad_packed_sequence(h_lstm, batch_first=True)\n",
    "        \n",
    "        avg_pool = torch.mean(h_lstm, 1)\n",
    "        max_pool, _ = torch.max(h_lstm, 1)\n",
    "        \n",
    "        \n",
    "        output = torch.cat([avg_pool, max_pool], 1)\n",
    "        output = self.dropout(output)\n",
    "        \n",
    "        output = self.fcnn_1(output)\n",
    "        output = torch.relu(output)\n",
    "        \n",
    "        output = self.fcnn_2(output)\n",
    "        \n",
    "        return output\n"
   ]
  },
  {
   "cell_type": "code",
   "execution_count": 21,
   "metadata": {},
   "outputs": [],
   "source": [
    "classifier = Classifier().to(device)"
   ]
  },
  {
   "cell_type": "code",
   "execution_count": 22,
   "metadata": {},
   "outputs": [],
   "source": [
    "criterion = nn.CrossEntropyLoss()\n",
    "optimizer = torch.optim.Adam(classifier.parameters(), lr=lr)"
   ]
  },
  {
   "cell_type": "code",
   "execution_count": 23,
   "metadata": {},
   "outputs": [
    {
     "name": "stdout",
     "output_type": "stream",
     "text": [
      "---> Epoch 0 <---\n"
     ]
    },
    {
     "name": "stderr",
     "output_type": "stream",
     "text": [
      "100%|██████████| 75/75 [00:32<00:00,  2.31it/s, Epoch=0, Train loss=0.646]\n",
      "100%|\u001b[32m██████████\u001b[0m| 19/19 [00:02<00:00,  6.88it/s, Epoch=0, Eval loss=1.77, Eval score=0.32]  \n"
     ]
    },
    {
     "name": "stdout",
     "output_type": "stream",
     "text": [
      "*** save ***\n",
      "---> Epoch 1 <---\n"
     ]
    },
    {
     "name": "stderr",
     "output_type": "stream",
     "text": [
      "100%|██████████| 75/75 [00:33<00:00,  2.25it/s, Epoch=1, Train loss=0.585]\n",
      "100%|\u001b[32m██████████\u001b[0m| 19/19 [00:02<00:00,  6.89it/s, Epoch=1, Eval loss=1.68, Eval score=0.32]  \n"
     ]
    },
    {
     "name": "stdout",
     "output_type": "stream",
     "text": [
      "*** save ***\n",
      "---> Epoch 2 <---\n"
     ]
    },
    {
     "name": "stderr",
     "output_type": "stream",
     "text": [
      "100%|██████████| 75/75 [00:33<00:00,  2.24it/s, Epoch=2, Train loss=0.587]\n",
      "100%|\u001b[32m██████████\u001b[0m| 19/19 [00:02<00:00,  6.40it/s, Epoch=2, Eval loss=1.57, Eval score=0.32]  \n"
     ]
    },
    {
     "name": "stdout",
     "output_type": "stream",
     "text": [
      "*** save ***\n",
      "---> Epoch 3 <---\n"
     ]
    },
    {
     "name": "stderr",
     "output_type": "stream",
     "text": [
      "100%|██████████| 75/75 [00:33<00:00,  2.25it/s, Epoch=3, Train loss=0.584]\n",
      "100%|\u001b[32m██████████\u001b[0m| 19/19 [00:02<00:00,  6.41it/s, Epoch=3, Eval loss=1.69, Eval score=0.32]  \n"
     ]
    },
    {
     "name": "stdout",
     "output_type": "stream",
     "text": [
      "---> Epoch 4 <---\n"
     ]
    },
    {
     "name": "stderr",
     "output_type": "stream",
     "text": [
      "100%|██████████| 75/75 [00:34<00:00,  2.18it/s, Epoch=4, Train loss=0.583]\n",
      "100%|\u001b[32m██████████\u001b[0m| 19/19 [00:02<00:00,  6.89it/s, Epoch=4, Eval loss=1.64, Eval score=0.32]  \n"
     ]
    },
    {
     "name": "stdout",
     "output_type": "stream",
     "text": [
      "---> Epoch 5 <---\n"
     ]
    },
    {
     "name": "stderr",
     "output_type": "stream",
     "text": [
      "100%|██████████| 75/75 [00:34<00:00,  2.19it/s, Epoch=5, Train loss=0.585]\n",
      "100%|\u001b[32m██████████\u001b[0m| 19/19 [00:02<00:00,  6.88it/s, Epoch=5, Eval loss=1.63, Eval score=0.32]  \n"
     ]
    },
    {
     "name": "stdout",
     "output_type": "stream",
     "text": [
      "---> Epoch 6 <---\n"
     ]
    },
    {
     "name": "stderr",
     "output_type": "stream",
     "text": [
      "100%|██████████| 75/75 [00:33<00:00,  2.24it/s, Epoch=6, Train loss=0.593]\n",
      "100%|\u001b[32m██████████\u001b[0m| 19/19 [00:02<00:00,  6.83it/s, Epoch=6, Eval loss=1.68, Eval score=0.32]  \n"
     ]
    },
    {
     "name": "stdout",
     "output_type": "stream",
     "text": [
      "---> Epoch 7 <---\n"
     ]
    },
    {
     "name": "stderr",
     "output_type": "stream",
     "text": [
      "100%|██████████| 75/75 [00:34<00:00,  2.16it/s, Epoch=7, Train loss=0.584]\n",
      "100%|\u001b[32m██████████\u001b[0m| 19/19 [00:02<00:00,  6.81it/s, Epoch=7, Eval loss=1.67, Eval score=0.32]  \n"
     ]
    },
    {
     "name": "stdout",
     "output_type": "stream",
     "text": [
      "---> Epoch 8 <---\n"
     ]
    },
    {
     "name": "stderr",
     "output_type": "stream",
     "text": [
      "100%|██████████| 75/75 [00:34<00:00,  2.19it/s, Epoch=8, Train loss=0.583]\n",
      "100%|\u001b[32m██████████\u001b[0m| 19/19 [00:02<00:00,  6.43it/s, Epoch=8, Eval loss=1.76, Eval score=0.32]  \n"
     ]
    },
    {
     "name": "stdout",
     "output_type": "stream",
     "text": [
      "---> Epoch 9 <---\n"
     ]
    },
    {
     "name": "stderr",
     "output_type": "stream",
     "text": [
      "100%|██████████| 75/75 [00:33<00:00,  2.24it/s, Epoch=9, Train loss=0.577]\n",
      "100%|\u001b[32m██████████\u001b[0m| 19/19 [00:02<00:00,  6.73it/s, Epoch=9, Eval loss=1.81, Eval score=0.32]  \n"
     ]
    },
    {
     "name": "stdout",
     "output_type": "stream",
     "text": [
      "---> Epoch 10 <---\n"
     ]
    },
    {
     "name": "stderr",
     "output_type": "stream",
     "text": [
      "100%|██████████| 75/75 [00:33<00:00,  2.25it/s, Epoch=10, Train loss=0.582]\n",
      "100%|\u001b[32m██████████\u001b[0m| 19/19 [00:02<00:00,  6.72it/s, Epoch=10, Eval loss=1.7, Eval score=0.32]   \n"
     ]
    },
    {
     "name": "stdout",
     "output_type": "stream",
     "text": [
      "---> Epoch 11 <---\n"
     ]
    },
    {
     "name": "stderr",
     "output_type": "stream",
     "text": [
      "100%|██████████| 75/75 [00:34<00:00,  2.20it/s, Epoch=11, Train loss=0.578]\n",
      "100%|\u001b[32m██████████\u001b[0m| 19/19 [00:02<00:00,  6.58it/s, Epoch=11, Eval loss=1.61, Eval score=0.32]  \n"
     ]
    },
    {
     "name": "stdout",
     "output_type": "stream",
     "text": [
      "---> Epoch 12 <---\n"
     ]
    },
    {
     "name": "stderr",
     "output_type": "stream",
     "text": [
      "100%|██████████| 75/75 [00:34<00:00,  2.18it/s, Epoch=12, Train loss=0.578]\n",
      "100%|\u001b[32m██████████\u001b[0m| 19/19 [00:02<00:00,  6.62it/s, Epoch=12, Eval loss=1.81, Eval score=0.32]  \n"
     ]
    },
    {
     "name": "stdout",
     "output_type": "stream",
     "text": [
      "---> Epoch 13 <---\n"
     ]
    },
    {
     "name": "stderr",
     "output_type": "stream",
     "text": [
      "100%|██████████| 75/75 [00:34<00:00,  2.16it/s, Epoch=13, Train loss=0.575]\n",
      "100%|\u001b[32m██████████\u001b[0m| 19/19 [00:02<00:00,  6.70it/s, Epoch=13, Eval loss=1.8, Eval score=0.32]   \n"
     ]
    },
    {
     "name": "stdout",
     "output_type": "stream",
     "text": [
      "---> Epoch 14 <---\n"
     ]
    },
    {
     "name": "stderr",
     "output_type": "stream",
     "text": [
      "100%|██████████| 75/75 [00:33<00:00,  2.23it/s, Epoch=14, Train loss=0.573]\n",
      "100%|\u001b[32m██████████\u001b[0m| 19/19 [00:02<00:00,  6.56it/s, Epoch=14, Eval loss=1.83, Eval score=0.32]  \n"
     ]
    },
    {
     "name": "stdout",
     "output_type": "stream",
     "text": [
      "---> Epoch 15 <---\n"
     ]
    },
    {
     "name": "stderr",
     "output_type": "stream",
     "text": [
      "100%|██████████| 75/75 [00:36<00:00,  2.08it/s, Epoch=15, Train loss=0.575]\n",
      "100%|\u001b[32m██████████\u001b[0m| 19/19 [00:02<00:00,  6.51it/s, Epoch=15, Eval loss=1.84, Eval score=0.32]  \n"
     ]
    },
    {
     "name": "stdout",
     "output_type": "stream",
     "text": [
      "---> Epoch 16 <---\n"
     ]
    },
    {
     "name": "stderr",
     "output_type": "stream",
     "text": [
      "100%|██████████| 75/75 [00:35<00:00,  2.14it/s, Epoch=16, Train loss=0.57] \n",
      "100%|\u001b[32m██████████\u001b[0m| 19/19 [00:02<00:00,  6.68it/s, Epoch=16, Eval loss=1.84, Eval score=0.32]  \n"
     ]
    },
    {
     "name": "stdout",
     "output_type": "stream",
     "text": [
      "---> Epoch 17 <---\n"
     ]
    },
    {
     "name": "stderr",
     "output_type": "stream",
     "text": [
      "100%|██████████| 75/75 [00:34<00:00,  2.14it/s, Epoch=17, Train loss=0.572]\n",
      "100%|\u001b[32m██████████\u001b[0m| 19/19 [00:02<00:00,  6.74it/s, Epoch=17, Eval loss=1.75, Eval score=0.32]  \n"
     ]
    },
    {
     "name": "stdout",
     "output_type": "stream",
     "text": [
      "---> Epoch 18 <---\n"
     ]
    },
    {
     "name": "stderr",
     "output_type": "stream",
     "text": [
      "100%|██████████| 75/75 [00:34<00:00,  2.17it/s, Epoch=18, Train loss=0.567]\n",
      "100%|\u001b[32m██████████\u001b[0m| 19/19 [00:02<00:00,  6.40it/s, Epoch=18, Eval loss=1.74, Eval score=0.32]  \n"
     ]
    },
    {
     "name": "stdout",
     "output_type": "stream",
     "text": [
      "---> Epoch 19 <---\n"
     ]
    },
    {
     "name": "stderr",
     "output_type": "stream",
     "text": [
      " 55%|█████▍    | 41/75 [00:20<00:17,  1.99it/s, Epoch=19, Train loss=0.565]\n"
     ]
    },
    {
     "ename": "KeyboardInterrupt",
     "evalue": "",
     "output_type": "error",
     "traceback": [
      "\u001b[0;31m---------------------------------------------------------------------------\u001b[0m",
      "\u001b[0;31mKeyboardInterrupt\u001b[0m                         Traceback (most recent call last)",
      "\u001b[0;32m<ipython-input-23-094d6f6df3ea>\u001b[0m in \u001b[0;36m<module>\u001b[0;34m\u001b[0m\n\u001b[1;32m     21\u001b[0m         \u001b[0moptimizer\u001b[0m\u001b[0;34m.\u001b[0m\u001b[0mstep\u001b[0m\u001b[0;34m(\u001b[0m\u001b[0;34m)\u001b[0m\u001b[0;34m\u001b[0m\u001b[0;34m\u001b[0m\u001b[0m\n\u001b[1;32m     22\u001b[0m \u001b[0;34m\u001b[0m\u001b[0m\n\u001b[0;32m---> 23\u001b[0;31m         \u001b[0mtrain_losses\u001b[0m\u001b[0;34m.\u001b[0m\u001b[0mappend\u001b[0m\u001b[0;34m(\u001b[0m\u001b[0mloss\u001b[0m\u001b[0;34m.\u001b[0m\u001b[0mitem\u001b[0m\u001b[0;34m(\u001b[0m\u001b[0;34m)\u001b[0m\u001b[0;34m)\u001b[0m\u001b[0;34m\u001b[0m\u001b[0;34m\u001b[0m\u001b[0m\n\u001b[0m\u001b[1;32m     24\u001b[0m         loader.set_postfix({\n\u001b[1;32m     25\u001b[0m             \u001b[0;34m'Epoch'\u001b[0m\u001b[0;34m:\u001b[0m \u001b[0mi\u001b[0m\u001b[0;34m,\u001b[0m\u001b[0;34m\u001b[0m\u001b[0;34m\u001b[0m\u001b[0m\n",
      "\u001b[0;31mKeyboardInterrupt\u001b[0m: "
     ]
    }
   ],
   "source": [
    "min_loss = np.inf\n",
    "\n",
    "for i in range(num_epochs):\n",
    "    print(f'---> Epoch {i} <---')\n",
    "    time.sleep(0.5)\n",
    "    \n",
    "    classifier.train()\n",
    "    loader = tqdm(train_loader, postfix={'Epoch': i})\n",
    "    train_losses = []\n",
    "    \n",
    "    for sentences, targets in loader:\n",
    "        sentences = sentences.to(device)\n",
    "        targets = targets.to(device)\n",
    "        \n",
    "        optimizer.zero_grad()\n",
    "        \n",
    "        outputs = classifier(sentences)\n",
    "        \n",
    "        loss = criterion(outputs, targets)\n",
    "        loss.backward()\n",
    "        optimizer.step()\n",
    "        \n",
    "        train_losses.append(loss.item())\n",
    "        loader.set_postfix({\n",
    "            'Epoch': i,\n",
    "            'Train loss': np.mean(train_losses)\n",
    "        }, refresh=True)\n",
    "    \n",
    "    \n",
    "    time.sleep(0.5)\n",
    "    \n",
    "    classifier.eval()\n",
    "    loader = tqdm(eval_loader, postfix={'Epoch': i,}, colour='green')\n",
    "    eval_losses = []\n",
    "    eval_scores = []\n",
    "    \n",
    "    for sentences, targets in loader:\n",
    "        sentences = sentences.to(device)\n",
    "        targets = targets.to(device)\n",
    "        \n",
    "        outputs = classifier(sentences)\n",
    "        loss = criterion(outputs, targets)\n",
    "        \n",
    "        score = (outputs.argmax(dim=1) == targets).detach().cpu().numpy()\n",
    "        eval_scores.append(score)\n",
    "        eval_losses.append(loss.item())\n",
    "        loader.set_postfix({\n",
    "            'Epoch': i,\n",
    "            'Eval loss': np.mean(eval_losses),\n",
    "            'Eval score': np.concatenate(eval_scores).mean()\n",
    "        }, refresh=True)\n",
    "        \n",
    "    \n",
    "    eval_loss = np.mean(eval_losses)\n",
    "    if eval_loss <= min_loss:\n",
    "        min_loss = eval_loss\n",
    "        save_model(classifier, model_file)\n",
    "        loader.write('*** save ***')\n",
    "        \n",
    "    time.sleep(0.5)"
   ]
  },
  {
   "cell_type": "code",
   "execution_count": null,
   "metadata": {},
   "outputs": [],
   "source": []
  }
 ],
 "metadata": {
  "kernelspec": {
   "display_name": "Python 3",
   "language": "python",
   "name": "python3"
  },
  "language_info": {
   "codemirror_mode": {
    "name": "ipython",
    "version": 3
   },
   "file_extension": ".py",
   "mimetype": "text/x-python",
   "name": "python",
   "nbconvert_exporter": "python",
   "pygments_lexer": "ipython3",
   "version": "3.8.10"
  }
 },
 "nbformat": 4,
 "nbformat_minor": 4
}
