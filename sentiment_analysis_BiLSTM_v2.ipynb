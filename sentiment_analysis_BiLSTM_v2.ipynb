{
 "cells": [
  {
   "cell_type": "code",
   "execution_count": 23,
   "metadata": {},
   "outputs": [],
   "source": [
    "import pandas as pd\n",
    "from gensim import models\n",
    "import numpy as np\n",
    "import gensim\n",
    "import gensim.downloader\n",
    "from tqdm import tqdm\n",
    "import time\n",
    "import os\n",
    "from matplotlib import pyplot as plt"
   ]
  },
  {
   "cell_type": "markdown",
   "metadata": {},
   "source": [
    "## Dataset"
   ]
  },
  {
   "cell_type": "code",
   "execution_count": 2,
   "metadata": {},
   "outputs": [],
   "source": [
    "df_train = pd.read_csv('data/sentiment_treebank/train.csv')\n",
    "df_eval = pd.read_csv('data/sentiment_treebank/eval.csv')"
   ]
  },
  {
   "cell_type": "code",
   "execution_count": 3,
   "metadata": {},
   "outputs": [],
   "source": [
    "train_sentences = df_train['sentence'].to_list()\n",
    "train_sentences = [sentence.lower().split() for sentence in train_sentences]\n",
    "train_labels = df_train['label'].to_list()\n",
    "\n",
    "eval_sentences = df_train['sentence'].to_list()\n",
    "eval_sentences = [sentence.lower().split() for sentence in eval_sentences]\n",
    "eval_labels = df_train['label'].to_list()"
   ]
  },
  {
   "cell_type": "code",
   "execution_count": 4,
   "metadata": {},
   "outputs": [],
   "source": [
    "max_length = -np.inf\n",
    "for sentence in train_sentences:\n",
    "    if len(sentence) > max_length:\n",
    "        max_length = len(sentence)\n",
    "\n",
    "for sentence in eval_sentences:\n",
    "    if len(sentence) > max_length:\n",
    "        max_length = len(sentence)"
   ]
  },
  {
   "cell_type": "code",
   "execution_count": 5,
   "metadata": {},
   "outputs": [
    {
     "data": {
      "text/plain": [
       "52"
      ]
     },
     "execution_count": 5,
     "metadata": {},
     "output_type": "execute_result"
    }
   ],
   "source": [
    "max_length"
   ]
  },
  {
   "cell_type": "markdown",
   "metadata": {},
   "source": [
    "## Word Embeddings"
   ]
  },
  {
   "cell_type": "code",
   "execution_count": 6,
   "metadata": {},
   "outputs": [],
   "source": [
    "root_dir = 'logs/sentiment_analysis'\n",
    "os.makedirs(root_dir, exist_ok=True)"
   ]
  },
  {
   "cell_type": "code",
   "execution_count": 7,
   "metadata": {},
   "outputs": [],
   "source": [
    "vector_size = 50\n",
    "window_size = 5\n",
    "negative_size = 15\n",
    "sentence_size = 60\n",
    "\n",
    "wv_model_file = root_dir + '/' + 'wv_bilstm.pth'"
   ]
  },
  {
   "cell_type": "code",
   "execution_count": 8,
   "metadata": {},
   "outputs": [],
   "source": [
    "# wv_model = gensim.downloader.load('glove-wiki-gigaword-50')\n",
    "# wv_model = models.Word2Vec(sentences=sentences, vector_size=vector_size, window=window_size, negative=negative_size).wv\n",
    "# wv_model = models.Word2Vec(corpus_file='data/corpus.txt', vector_size=vector_size, window=window_size, negative=negative_size).wv\n",
    "\n",
    "# wv_model.save(wv_model_file)\n",
    "# del wv_model"
   ]
  },
  {
   "cell_type": "code",
   "execution_count": 9,
   "metadata": {},
   "outputs": [],
   "source": [
    "def vectorize_sentences(sentences, wv, sentence_size):\n",
    "    voc = wv.key_to_index.keys()\n",
    "    unk = wv['<unk>']\n",
    "    eos = wv['<eos>']\n",
    "    lengths = []\n",
    "    for i, sentence in enumerate(sentences):\n",
    "        lengths.append(len(sentence))\n",
    "        \n",
    "        for i, token in enumerate(sentence):\n",
    "            if token in voc:\n",
    "                sentence[i] = wv[token]\n",
    "            else:\n",
    "                sentence[i] = unk\n",
    "        \n",
    "        \n",
    "        while len(sentence) < sentence_size:\n",
    "            sentence.append(eos)\n",
    "        \n",
    "        \n",
    "    return sentences, lengths"
   ]
  },
  {
   "cell_type": "code",
   "execution_count": 10,
   "metadata": {},
   "outputs": [],
   "source": [
    "wv = models.KeyedVectors.load(wv_model_file)"
   ]
  },
  {
   "cell_type": "code",
   "execution_count": 11,
   "metadata": {},
   "outputs": [],
   "source": [
    "wv.add_vectors(\n",
    "    ['<unk>', '<eos>'],\n",
    "    [np.zeros(wv.vector_size), np.ones(wv.vector_size)]\n",
    ")"
   ]
  },
  {
   "cell_type": "markdown",
   "metadata": {},
   "source": [
    "## BiLSTM"
   ]
  },
  {
   "cell_type": "code",
   "execution_count": 12,
   "metadata": {},
   "outputs": [],
   "source": [
    "import torch\n",
    "from torch import nn\n",
    "from torch.nn.utils.rnn import pack_padded_sequence, pad_packed_sequence"
   ]
  },
  {
   "cell_type": "code",
   "execution_count": 13,
   "metadata": {},
   "outputs": [],
   "source": [
    "if torch.cuda.is_available():\n",
    "    device = torch.device('cuda')\n",
    "else:\n",
    "    device = torch.device('cpu')"
   ]
  },
  {
   "cell_type": "code",
   "execution_count": 14,
   "metadata": {},
   "outputs": [],
   "source": [
    "def save_model(model, file_name):\n",
    "    torch.save(model.state_dict(), file_name)\n",
    "def load_model(model, file_name):\n",
    "    return model.load_state_dict(torch.load(file_name))"
   ]
  },
  {
   "cell_type": "code",
   "execution_count": 15,
   "metadata": {},
   "outputs": [],
   "source": [
    "hidden_size = 256\n",
    "num_layers = 2\n",
    "bidirectional = True\n",
    "\n",
    "batch_size = 128\n",
    "\n",
    "lr = 0.001\n",
    "num_epochs = 50\n",
    "\n",
    "\n",
    "model_file = root_dir + '/' + 'lstm_model_v2.pth'"
   ]
  },
  {
   "cell_type": "code",
   "execution_count": 16,
   "metadata": {},
   "outputs": [],
   "source": [
    "train_sentences, train_lengths = vectorize_sentences(train_sentences, wv, sentence_size)\n",
    "train_sentences = np.array(train_sentences)\n",
    "train_sentences = torch.tensor(train_sentences, dtype=torch.float)\n",
    "\n",
    "train_lengths = torch.tensor(train_lengths, dtype=torch.int)\n",
    "train_labels = torch.tensor(train_labels, dtype=torch.long)\n",
    "\n",
    "\n",
    "eval_sentences, eval_lengths = vectorize_sentences(eval_sentences, wv, sentence_size)\n",
    "eval_sentences = np.array(eval_sentences)\n",
    "eval_sentences = torch.tensor(eval_sentences, dtype=torch.float)\n",
    "\n",
    "eval_lengths = torch.tensor(eval_lengths, dtype=torch.int)\n",
    "eval_labels = torch.tensor(eval_labels, dtype=torch.long)"
   ]
  },
  {
   "cell_type": "code",
   "execution_count": 17,
   "metadata": {},
   "outputs": [],
   "source": [
    "train_loader = torch.utils.data.DataLoader(list(zip(train_sentences, train_lengths, train_labels)), batch_size, shuffle=True)\n",
    "\n",
    "eval_loader = torch.utils.data.DataLoader(list(zip(eval_sentences, eval_lengths, eval_labels)), batch_size, shuffle=True)"
   ]
  },
  {
   "cell_type": "code",
   "execution_count": 18,
   "metadata": {},
   "outputs": [],
   "source": [
    "class Classifier(nn.Module):\n",
    "    \n",
    "    def __init__(self):\n",
    "        super(Classifier, self).__init__()\n",
    "        lstm_dim = hidden_size * 2 * (2 if bidirectional else 1)\n",
    "        \n",
    "        \n",
    "        self.lstm = nn.LSTM(input_size=vector_size,\n",
    "                              hidden_size=hidden_size,\n",
    "                              num_layers=num_layers,\n",
    "                              bidirectional=bidirectional,\n",
    "                              batch_first=True\n",
    "                             )\n",
    "        self.dropout = nn.Dropout(p=0.5)\n",
    "\n",
    "        \n",
    "        self.fcnn_1 = nn.Linear(in_features=lstm_dim, out_features=64)\n",
    "        \n",
    "        self.fcnn_2 = nn.Linear(in_features=64, out_features=2)\n",
    "        \n",
    "        \n",
    "    def forward(self, sentences, lengths):\n",
    "        sentences = pack_padded_sequence(sentences, lengths.cpu(), batch_first=True, enforce_sorted=False)\n",
    "        h_lstm, _ = self.lstm(sentences)\n",
    "        output, _ = pad_packed_sequence(h_lstm, batch_first=True)\n",
    "        \n",
    "        avg_pool = torch.mean(output, 1)\n",
    "        max_pool, _ = torch.max(output, 1)\n",
    "        \n",
    "        \n",
    "        output = torch.cat([avg_pool, max_pool], 1)\n",
    "        output = self.dropout(output)\n",
    "        \n",
    "        output = self.fcnn_1(output)\n",
    "        output = torch.relu(output)\n",
    "        \n",
    "        output = self.fcnn_2(output)\n",
    "        \n",
    "        return output"
   ]
  },
  {
   "cell_type": "code",
   "execution_count": 19,
   "metadata": {},
   "outputs": [],
   "source": [
    "classifier = Classifier().to(device)"
   ]
  },
  {
   "cell_type": "code",
   "execution_count": 20,
   "metadata": {},
   "outputs": [],
   "source": [
    "# weights = 1/(train_y.sum(dim=0) / train_y.sum())\n",
    "# weights = weights.detach().to(device)\n",
    "# weights"
   ]
  },
  {
   "cell_type": "code",
   "execution_count": 21,
   "metadata": {},
   "outputs": [],
   "source": [
    "criterion = nn.CrossEntropyLoss()\n",
    "optimizer = torch.optim.Adam(classifier.parameters(), lr=lr)"
   ]
  },
  {
   "cell_type": "code",
   "execution_count": 22,
   "metadata": {
    "code_folding": [],
    "scrolled": false
   },
   "outputs": [
    {
     "name": "stdout",
     "output_type": "stream",
     "text": [
      "---> Epoch 0 <---\n"
     ]
    },
    {
     "name": "stderr",
     "output_type": "stream",
     "text": [
      "100%|██████████| 52/52 [00:02<00:00, 25.66it/s, Epoch=0, Train loss=0.643]\n",
      "100%|\u001b[32m██████████\u001b[0m| 52/52 [00:00<00:00, 79.46it/s, Epoch=0, Eval loss=0.556, Eval score=0.729]\n"
     ]
    },
    {
     "name": "stdout",
     "output_type": "stream",
     "text": [
      "*** save ***\n",
      "---> Epoch 1 <---\n"
     ]
    },
    {
     "name": "stderr",
     "output_type": "stream",
     "text": [
      "100%|██████████| 52/52 [00:02<00:00, 25.63it/s, Epoch=1, Train loss=0.541]\n",
      "100%|\u001b[32m██████████\u001b[0m| 52/52 [00:00<00:00, 77.03it/s, Epoch=1, Eval loss=0.507, Eval score=0.766]\n"
     ]
    },
    {
     "name": "stdout",
     "output_type": "stream",
     "text": [
      "*** save ***\n",
      "---> Epoch 2 <---\n"
     ]
    },
    {
     "name": "stderr",
     "output_type": "stream",
     "text": [
      "100%|██████████| 52/52 [00:02<00:00, 24.75it/s, Epoch=2, Train loss=0.498]\n",
      "100%|\u001b[32m██████████\u001b[0m| 52/52 [00:00<00:00, 78.43it/s, Epoch=2, Eval loss=0.484, Eval score=0.769]\n"
     ]
    },
    {
     "name": "stdout",
     "output_type": "stream",
     "text": [
      "*** save ***\n",
      "---> Epoch 3 <---\n"
     ]
    },
    {
     "name": "stderr",
     "output_type": "stream",
     "text": [
      "100%|██████████| 52/52 [00:02<00:00, 25.83it/s, Epoch=3, Train loss=0.476]\n",
      "100%|\u001b[32m██████████\u001b[0m| 52/52 [00:00<00:00, 80.16it/s, Epoch=3, Eval loss=0.448, Eval score=0.786]\n"
     ]
    },
    {
     "name": "stdout",
     "output_type": "stream",
     "text": [
      "*** save ***\n",
      "---> Epoch 4 <---\n"
     ]
    },
    {
     "name": "stderr",
     "output_type": "stream",
     "text": [
      "100%|██████████| 52/52 [00:02<00:00, 25.85it/s, Epoch=4, Train loss=0.455]\n",
      "100%|\u001b[32m██████████\u001b[0m| 52/52 [00:00<00:00, 77.02it/s, Epoch=4, Eval loss=0.424, Eval score=0.801]\n"
     ]
    },
    {
     "name": "stdout",
     "output_type": "stream",
     "text": [
      "*** save ***\n",
      "---> Epoch 5 <---\n"
     ]
    },
    {
     "name": "stderr",
     "output_type": "stream",
     "text": [
      "100%|██████████| 52/52 [00:01<00:00, 26.18it/s, Epoch=5, Train loss=0.435]\n",
      "100%|\u001b[32m██████████\u001b[0m| 52/52 [00:00<00:00, 88.95it/s, Epoch=5, Eval loss=0.422, Eval score=0.802]\n"
     ]
    },
    {
     "name": "stdout",
     "output_type": "stream",
     "text": [
      "*** save ***\n",
      "---> Epoch 6 <---\n"
     ]
    },
    {
     "name": "stderr",
     "output_type": "stream",
     "text": [
      "100%|██████████| 52/52 [00:02<00:00, 25.44it/s, Epoch=6, Train loss=0.411]\n",
      "100%|\u001b[32m██████████\u001b[0m| 52/52 [00:00<00:00, 79.32it/s, Epoch=6, Eval loss=0.372, Eval score=0.836]\n"
     ]
    },
    {
     "name": "stdout",
     "output_type": "stream",
     "text": [
      "*** save ***\n",
      "---> Epoch 7 <---\n"
     ]
    },
    {
     "name": "stderr",
     "output_type": "stream",
     "text": [
      "100%|██████████| 52/52 [00:01<00:00, 26.15it/s, Epoch=7, Train loss=0.389]\n",
      "100%|\u001b[32m██████████\u001b[0m| 52/52 [00:00<00:00, 78.06it/s, Epoch=7, Eval loss=0.355, Eval score=0.845]\n"
     ]
    },
    {
     "name": "stdout",
     "output_type": "stream",
     "text": [
      "*** save ***\n",
      "---> Epoch 8 <---\n"
     ]
    },
    {
     "name": "stderr",
     "output_type": "stream",
     "text": [
      "100%|██████████| 52/52 [00:01<00:00, 26.01it/s, Epoch=8, Train loss=0.367]\n",
      "100%|\u001b[32m██████████\u001b[0m| 52/52 [00:00<00:00, 81.05it/s, Epoch=8, Eval loss=0.351, Eval score=0.842]\n"
     ]
    },
    {
     "name": "stdout",
     "output_type": "stream",
     "text": [
      "*** save ***\n",
      "---> Epoch 9 <---\n"
     ]
    },
    {
     "name": "stderr",
     "output_type": "stream",
     "text": [
      "100%|██████████| 52/52 [00:02<00:00, 25.95it/s, Epoch=9, Train loss=0.338]\n",
      "100%|\u001b[32m██████████\u001b[0m| 52/52 [00:00<00:00, 78.16it/s, Epoch=9, Eval loss=0.335, Eval score=0.851]\n"
     ]
    },
    {
     "name": "stdout",
     "output_type": "stream",
     "text": [
      "*** save ***\n",
      "---> Epoch 10 <---\n"
     ]
    },
    {
     "name": "stderr",
     "output_type": "stream",
     "text": [
      "100%|██████████| 52/52 [00:02<00:00, 25.98it/s, Epoch=10, Train loss=0.32] \n",
      "100%|\u001b[32m██████████\u001b[0m| 52/52 [00:00<00:00, 79.86it/s, Epoch=10, Eval loss=0.251, Eval score=0.899]\n"
     ]
    },
    {
     "name": "stdout",
     "output_type": "stream",
     "text": [
      "*** save ***\n",
      "---> Epoch 11 <---\n"
     ]
    },
    {
     "name": "stderr",
     "output_type": "stream",
     "text": [
      "100%|██████████| 52/52 [00:02<00:00, 25.69it/s, Epoch=11, Train loss=0.272]\n",
      "100%|\u001b[32m██████████\u001b[0m| 52/52 [00:00<00:00, 79.97it/s, Epoch=11, Eval loss=0.232, Eval score=0.903]\n"
     ]
    },
    {
     "name": "stdout",
     "output_type": "stream",
     "text": [
      "*** save ***\n",
      "---> Epoch 12 <---\n"
     ]
    },
    {
     "name": "stderr",
     "output_type": "stream",
     "text": [
      "100%|██████████| 52/52 [00:02<00:00, 25.52it/s, Epoch=12, Train loss=0.248]\n",
      "100%|\u001b[32m██████████\u001b[0m| 52/52 [00:00<00:00, 79.71it/s, Epoch=12, Eval loss=0.177, Eval score=0.935]\n"
     ]
    },
    {
     "name": "stdout",
     "output_type": "stream",
     "text": [
      "*** save ***\n",
      "---> Epoch 13 <---\n"
     ]
    },
    {
     "name": "stderr",
     "output_type": "stream",
     "text": [
      "100%|██████████| 52/52 [00:02<00:00, 25.77it/s, Epoch=13, Train loss=0.208]\n",
      "100%|\u001b[32m██████████\u001b[0m| 52/52 [00:00<00:00, 79.44it/s, Epoch=13, Eval loss=0.145, Eval score=0.951]\n"
     ]
    },
    {
     "name": "stdout",
     "output_type": "stream",
     "text": [
      "*** save ***\n",
      "---> Epoch 14 <---\n"
     ]
    },
    {
     "name": "stderr",
     "output_type": "stream",
     "text": [
      "100%|██████████| 52/52 [00:02<00:00, 25.66it/s, Epoch=14, Train loss=0.17] \n",
      "100%|\u001b[32m██████████\u001b[0m| 52/52 [00:00<00:00, 78.14it/s, Epoch=14, Eval loss=0.139, Eval score=0.944]\n"
     ]
    },
    {
     "name": "stdout",
     "output_type": "stream",
     "text": [
      "*** save ***\n",
      "---> Epoch 15 <---\n"
     ]
    },
    {
     "name": "stderr",
     "output_type": "stream",
     "text": [
      "100%|██████████| 52/52 [00:02<00:00, 25.91it/s, Epoch=15, Train loss=0.152]\n",
      "100%|\u001b[32m██████████\u001b[0m| 52/52 [00:00<00:00, 77.23it/s, Epoch=15, Eval loss=0.152, Eval score=0.937]\n"
     ]
    },
    {
     "name": "stdout",
     "output_type": "stream",
     "text": [
      "---> Epoch 16 <---\n"
     ]
    },
    {
     "name": "stderr",
     "output_type": "stream",
     "text": [
      "100%|██████████| 52/52 [00:02<00:00, 25.98it/s, Epoch=16, Train loss=0.127]\n",
      "100%|\u001b[32m██████████\u001b[0m| 52/52 [00:00<00:00, 78.23it/s, Epoch=16, Eval loss=0.0865, Eval score=0.966]\n"
     ]
    },
    {
     "name": "stdout",
     "output_type": "stream",
     "text": [
      "*** save ***\n",
      "---> Epoch 17 <---\n"
     ]
    },
    {
     "name": "stderr",
     "output_type": "stream",
     "text": [
      "100%|██████████| 52/52 [00:02<00:00, 25.52it/s, Epoch=17, Train loss=0.1]   \n",
      "100%|\u001b[32m██████████\u001b[0m| 52/52 [00:00<00:00, 78.51it/s, Epoch=17, Eval loss=0.0588, Eval score=0.981]\n"
     ]
    },
    {
     "name": "stdout",
     "output_type": "stream",
     "text": [
      "*** save ***\n",
      "---> Epoch 18 <---\n"
     ]
    },
    {
     "name": "stderr",
     "output_type": "stream",
     "text": [
      "100%|██████████| 52/52 [00:01<00:00, 26.65it/s, Epoch=18, Train loss=0.0838]\n",
      "100%|\u001b[32m██████████\u001b[0m| 52/52 [00:00<00:00, 76.37it/s, Epoch=18, Eval loss=0.0569, Eval score=0.982]\n"
     ]
    },
    {
     "name": "stdout",
     "output_type": "stream",
     "text": [
      "*** save ***\n",
      "---> Epoch 19 <---\n"
     ]
    },
    {
     "name": "stderr",
     "output_type": "stream",
     "text": [
      "100%|██████████| 52/52 [00:02<00:00, 25.48it/s, Epoch=19, Train loss=0.0752]\n",
      "100%|\u001b[32m██████████\u001b[0m| 52/52 [00:00<00:00, 77.13it/s, Epoch=19, Eval loss=0.06, Eval score=0.982]  \n"
     ]
    },
    {
     "name": "stdout",
     "output_type": "stream",
     "text": [
      "---> Epoch 20 <---\n"
     ]
    },
    {
     "name": "stderr",
     "output_type": "stream",
     "text": [
      "100%|██████████| 52/52 [00:02<00:00, 25.74it/s, Epoch=20, Train loss=0.0754]\n",
      "100%|\u001b[32m██████████\u001b[0m| 52/52 [00:00<00:00, 77.39it/s, Epoch=20, Eval loss=0.0382, Eval score=0.989]\n"
     ]
    },
    {
     "name": "stdout",
     "output_type": "stream",
     "text": [
      "*** save ***\n",
      "---> Epoch 21 <---\n"
     ]
    },
    {
     "name": "stderr",
     "output_type": "stream",
     "text": [
      "100%|██████████| 52/52 [00:02<00:00, 25.61it/s, Epoch=21, Train loss=0.0573]\n",
      "100%|\u001b[32m██████████\u001b[0m| 52/52 [00:00<00:00, 79.40it/s, Epoch=21, Eval loss=0.0295, Eval score=0.99] \n"
     ]
    },
    {
     "name": "stdout",
     "output_type": "stream",
     "text": [
      "*** save ***\n",
      "---> Epoch 22 <---\n"
     ]
    },
    {
     "name": "stderr",
     "output_type": "stream",
     "text": [
      "100%|██████████| 52/52 [00:02<00:00, 25.57it/s, Epoch=22, Train loss=0.058] \n",
      "100%|\u001b[32m██████████\u001b[0m| 52/52 [00:00<00:00, 79.48it/s, Epoch=22, Eval loss=0.0302, Eval score=0.989]\n"
     ]
    },
    {
     "name": "stdout",
     "output_type": "stream",
     "text": [
      "---> Epoch 23 <---\n"
     ]
    },
    {
     "name": "stderr",
     "output_type": "stream",
     "text": [
      "100%|██████████| 52/52 [00:02<00:00, 25.46it/s, Epoch=23, Train loss=0.049] \n",
      "100%|\u001b[32m██████████\u001b[0m| 52/52 [00:00<00:00, 77.19it/s, Epoch=23, Eval loss=0.024, Eval score=0.994] \n"
     ]
    },
    {
     "name": "stdout",
     "output_type": "stream",
     "text": [
      "*** save ***\n",
      "---> Epoch 24 <---\n"
     ]
    },
    {
     "name": "stderr",
     "output_type": "stream",
     "text": [
      "100%|██████████| 52/52 [00:02<00:00, 25.05it/s, Epoch=24, Train loss=0.0414]\n",
      "100%|\u001b[32m██████████\u001b[0m| 52/52 [00:00<00:00, 75.97it/s, Epoch=24, Eval loss=0.0164, Eval score=0.995]\n"
     ]
    },
    {
     "name": "stdout",
     "output_type": "stream",
     "text": [
      "*** save ***\n",
      "---> Epoch 25 <---\n"
     ]
    },
    {
     "name": "stderr",
     "output_type": "stream",
     "text": [
      "100%|██████████| 52/52 [00:02<00:00, 25.56it/s, Epoch=25, Train loss=0.041] \n",
      "100%|\u001b[32m██████████\u001b[0m| 52/52 [00:00<00:00, 76.66it/s, Epoch=25, Eval loss=0.0268, Eval score=0.99] \n"
     ]
    },
    {
     "name": "stdout",
     "output_type": "stream",
     "text": [
      "---> Epoch 26 <---\n"
     ]
    },
    {
     "name": "stderr",
     "output_type": "stream",
     "text": [
      "100%|██████████| 52/52 [00:02<00:00, 25.59it/s, Epoch=26, Train loss=0.0374]\n",
      "100%|\u001b[32m██████████\u001b[0m| 52/52 [00:00<00:00, 77.35it/s, Epoch=26, Eval loss=0.0344, Eval score=0.988]\n"
     ]
    },
    {
     "name": "stdout",
     "output_type": "stream",
     "text": [
      "---> Epoch 27 <---\n"
     ]
    },
    {
     "name": "stderr",
     "output_type": "stream",
     "text": [
      "100%|██████████| 52/52 [00:02<00:00, 25.77it/s, Epoch=27, Train loss=0.0337]\n",
      "100%|\u001b[32m██████████\u001b[0m| 52/52 [00:00<00:00, 77.04it/s, Epoch=27, Eval loss=0.0133, Eval score=0.997]\n"
     ]
    },
    {
     "name": "stdout",
     "output_type": "stream",
     "text": [
      "*** save ***\n",
      "---> Epoch 28 <---\n"
     ]
    },
    {
     "name": "stderr",
     "output_type": "stream",
     "text": [
      "100%|██████████| 52/52 [00:02<00:00, 25.52it/s, Epoch=28, Train loss=0.0209]\n",
      "100%|\u001b[32m██████████\u001b[0m| 52/52 [00:00<00:00, 76.97it/s, Epoch=28, Eval loss=0.0092, Eval score=0.997] \n"
     ]
    },
    {
     "name": "stdout",
     "output_type": "stream",
     "text": [
      "*** save ***\n",
      "---> Epoch 29 <---\n"
     ]
    },
    {
     "name": "stderr",
     "output_type": "stream",
     "text": [
      "100%|██████████| 52/52 [00:02<00:00, 25.47it/s, Epoch=29, Train loss=0.0185]\n",
      "100%|\u001b[32m██████████\u001b[0m| 52/52 [00:00<00:00, 78.66it/s, Epoch=29, Eval loss=0.00576, Eval score=0.999]\n"
     ]
    },
    {
     "name": "stdout",
     "output_type": "stream",
     "text": [
      "*** save ***\n",
      "---> Epoch 30 <---\n"
     ]
    },
    {
     "name": "stderr",
     "output_type": "stream",
     "text": [
      "100%|██████████| 52/52 [00:02<00:00, 25.73it/s, Epoch=30, Train loss=0.0436]\n",
      "100%|\u001b[32m██████████\u001b[0m| 52/52 [00:00<00:00, 78.49it/s, Epoch=30, Eval loss=0.0232, Eval score=0.993]\n"
     ]
    },
    {
     "name": "stdout",
     "output_type": "stream",
     "text": [
      "---> Epoch 31 <---\n"
     ]
    },
    {
     "name": "stderr",
     "output_type": "stream",
     "text": [
      "100%|██████████| 52/52 [00:02<00:00, 25.34it/s, Epoch=31, Train loss=0.027] \n",
      "100%|\u001b[32m██████████\u001b[0m| 52/52 [00:00<00:00, 77.53it/s, Epoch=31, Eval loss=0.0134, Eval score=0.997]\n"
     ]
    },
    {
     "name": "stdout",
     "output_type": "stream",
     "text": [
      "---> Epoch 32 <---\n"
     ]
    },
    {
     "name": "stderr",
     "output_type": "stream",
     "text": [
      "100%|██████████| 52/52 [00:02<00:00, 25.53it/s, Epoch=32, Train loss=0.0125]\n",
      "100%|\u001b[32m██████████\u001b[0m| 52/52 [00:00<00:00, 76.94it/s, Epoch=32, Eval loss=0.0045, Eval score=0.999] \n"
     ]
    },
    {
     "name": "stdout",
     "output_type": "stream",
     "text": [
      "*** save ***\n",
      "---> Epoch 33 <---\n"
     ]
    },
    {
     "name": "stderr",
     "output_type": "stream",
     "text": [
      "100%|██████████| 52/52 [00:01<00:00, 26.20it/s, Epoch=33, Train loss=0.00865]\n",
      "100%|\u001b[32m██████████\u001b[0m| 52/52 [00:00<00:00, 77.81it/s, Epoch=33, Eval loss=0.00544, Eval score=0.998]\n"
     ]
    },
    {
     "name": "stdout",
     "output_type": "stream",
     "text": [
      "---> Epoch 34 <---\n"
     ]
    },
    {
     "name": "stderr",
     "output_type": "stream",
     "text": [
      "100%|██████████| 52/52 [00:01<00:00, 26.25it/s, Epoch=34, Train loss=0.0226] \n",
      "100%|\u001b[32m██████████\u001b[0m| 52/52 [00:00<00:00, 85.80it/s, Epoch=34, Eval loss=0.0149, Eval score=0.996]\n"
     ]
    },
    {
     "name": "stdout",
     "output_type": "stream",
     "text": [
      "---> Epoch 35 <---\n"
     ]
    },
    {
     "name": "stderr",
     "output_type": "stream",
     "text": [
      "100%|██████████| 52/52 [00:02<00:00, 25.82it/s, Epoch=35, Train loss=0.0195]\n",
      "100%|\u001b[32m██████████\u001b[0m| 52/52 [00:00<00:00, 79.69it/s, Epoch=35, Eval loss=0.00377, Eval score=0.999]\n"
     ]
    },
    {
     "name": "stdout",
     "output_type": "stream",
     "text": [
      "*** save ***\n",
      "---> Epoch 36 <---\n"
     ]
    },
    {
     "name": "stderr",
     "output_type": "stream",
     "text": [
      "100%|██████████| 52/52 [00:02<00:00, 25.49it/s, Epoch=36, Train loss=0.00911]\n",
      "100%|\u001b[32m██████████\u001b[0m| 52/52 [00:00<00:00, 78.93it/s, Epoch=36, Eval loss=0.00446, Eval score=0.999]\n"
     ]
    },
    {
     "name": "stdout",
     "output_type": "stream",
     "text": [
      "---> Epoch 37 <---\n"
     ]
    },
    {
     "name": "stderr",
     "output_type": "stream",
     "text": [
      "100%|██████████| 52/52 [00:02<00:00, 25.69it/s, Epoch=37, Train loss=0.0182]\n",
      "100%|\u001b[32m██████████\u001b[0m| 52/52 [00:00<00:00, 78.39it/s, Epoch=37, Eval loss=0.0314, Eval score=0.991]\n"
     ]
    },
    {
     "name": "stdout",
     "output_type": "stream",
     "text": [
      "---> Epoch 38 <---\n"
     ]
    },
    {
     "name": "stderr",
     "output_type": "stream",
     "text": [
      "100%|██████████| 52/52 [00:02<00:00, 25.72it/s, Epoch=38, Train loss=0.0481]\n",
      "100%|\u001b[32m██████████\u001b[0m| 52/52 [00:00<00:00, 78.37it/s, Epoch=38, Eval loss=0.0285, Eval score=0.991]\n"
     ]
    },
    {
     "name": "stdout",
     "output_type": "stream",
     "text": [
      "---> Epoch 39 <---\n"
     ]
    },
    {
     "name": "stderr",
     "output_type": "stream",
     "text": [
      "100%|██████████| 52/52 [00:02<00:00, 25.75it/s, Epoch=39, Train loss=0.0244]\n",
      "100%|\u001b[32m██████████\u001b[0m| 52/52 [00:00<00:00, 79.63it/s, Epoch=39, Eval loss=0.00735, Eval score=0.998]\n"
     ]
    },
    {
     "name": "stdout",
     "output_type": "stream",
     "text": [
      "---> Epoch 40 <---\n"
     ]
    },
    {
     "name": "stderr",
     "output_type": "stream",
     "text": [
      "100%|██████████| 52/52 [00:02<00:00, 25.80it/s, Epoch=40, Train loss=0.0131]\n",
      "100%|\u001b[32m██████████\u001b[0m| 52/52 [00:00<00:00, 78.30it/s, Epoch=40, Eval loss=0.00513, Eval score=0.999]\n"
     ]
    },
    {
     "name": "stdout",
     "output_type": "stream",
     "text": [
      "---> Epoch 41 <---\n"
     ]
    },
    {
     "name": "stderr",
     "output_type": "stream",
     "text": [
      "100%|██████████| 52/52 [00:02<00:00, 25.79it/s, Epoch=41, Train loss=0.00816]\n",
      "100%|\u001b[32m██████████\u001b[0m| 52/52 [00:00<00:00, 79.92it/s, Epoch=41, Eval loss=0.00248, Eval score=0.999]\n"
     ]
    },
    {
     "name": "stdout",
     "output_type": "stream",
     "text": [
      "*** save ***\n",
      "---> Epoch 42 <---\n"
     ]
    },
    {
     "name": "stderr",
     "output_type": "stream",
     "text": [
      "100%|██████████| 52/52 [00:02<00:00, 25.40it/s, Epoch=42, Train loss=0.0078] \n",
      "100%|\u001b[32m██████████\u001b[0m| 52/52 [00:00<00:00, 79.69it/s, Epoch=42, Eval loss=0.00323, Eval score=0.999]\n"
     ]
    },
    {
     "name": "stdout",
     "output_type": "stream",
     "text": [
      "---> Epoch 43 <---\n"
     ]
    },
    {
     "name": "stderr",
     "output_type": "stream",
     "text": [
      "100%|██████████| 52/52 [00:02<00:00, 25.48it/s, Epoch=43, Train loss=0.00822]\n",
      "100%|\u001b[32m██████████\u001b[0m| 52/52 [00:00<00:00, 77.99it/s, Epoch=43, Eval loss=0.00702, Eval score=0.998]\n"
     ]
    },
    {
     "name": "stdout",
     "output_type": "stream",
     "text": [
      "---> Epoch 44 <---\n"
     ]
    },
    {
     "name": "stderr",
     "output_type": "stream",
     "text": [
      "100%|██████████| 52/52 [00:02<00:00, 25.32it/s, Epoch=44, Train loss=0.0105] \n",
      "100%|\u001b[32m██████████\u001b[0m| 52/52 [00:00<00:00, 77.85it/s, Epoch=44, Eval loss=0.00283, Eval score=0.999]\n"
     ]
    },
    {
     "name": "stdout",
     "output_type": "stream",
     "text": [
      "---> Epoch 45 <---\n"
     ]
    },
    {
     "name": "stderr",
     "output_type": "stream",
     "text": [
      "100%|██████████| 52/52 [00:02<00:00, 25.90it/s, Epoch=45, Train loss=0.0104] \n",
      "100%|\u001b[32m██████████\u001b[0m| 52/52 [00:00<00:00, 77.07it/s, Epoch=45, Eval loss=0.0091, Eval score=0.997] \n"
     ]
    },
    {
     "name": "stdout",
     "output_type": "stream",
     "text": [
      "---> Epoch 46 <---\n"
     ]
    },
    {
     "name": "stderr",
     "output_type": "stream",
     "text": [
      "100%|██████████| 52/52 [00:02<00:00, 25.85it/s, Epoch=46, Train loss=0.0266]\n",
      "100%|\u001b[32m██████████\u001b[0m| 52/52 [00:00<00:00, 78.33it/s, Epoch=46, Eval loss=0.0306, Eval score=0.988]\n"
     ]
    },
    {
     "name": "stdout",
     "output_type": "stream",
     "text": [
      "---> Epoch 47 <---\n"
     ]
    },
    {
     "name": "stderr",
     "output_type": "stream",
     "text": [
      "100%|██████████| 52/52 [00:02<00:00, 25.63it/s, Epoch=47, Train loss=0.0216]\n",
      "100%|\u001b[32m██████████\u001b[0m| 52/52 [00:00<00:00, 76.67it/s, Epoch=47, Eval loss=0.00731, Eval score=0.998]\n"
     ]
    },
    {
     "name": "stdout",
     "output_type": "stream",
     "text": [
      "---> Epoch 48 <---\n"
     ]
    },
    {
     "name": "stderr",
     "output_type": "stream",
     "text": [
      "100%|██████████| 52/52 [00:02<00:00, 25.45it/s, Epoch=48, Train loss=0.00969]\n",
      "100%|\u001b[32m██████████\u001b[0m| 52/52 [00:00<00:00, 77.66it/s, Epoch=48, Eval loss=0.00361, Eval score=0.999]\n"
     ]
    },
    {
     "name": "stdout",
     "output_type": "stream",
     "text": [
      "---> Epoch 49 <---\n"
     ]
    },
    {
     "name": "stderr",
     "output_type": "stream",
     "text": [
      "100%|██████████| 52/52 [00:02<00:00, 25.74it/s, Epoch=49, Train loss=0.00792]\n",
      "100%|\u001b[32m██████████\u001b[0m| 52/52 [00:00<00:00, 82.02it/s, Epoch=49, Eval loss=0.00603, Eval score=0.998]\n"
     ]
    }
   ],
   "source": [
    "min_loss = np.inf\n",
    "\n",
    "global_train_losses = []\n",
    "global_eval_losses = []\n",
    "\n",
    "for i in range(num_epochs):\n",
    "    print(f'---> Epoch {i} <---')\n",
    "    time.sleep(0.5)\n",
    "    \n",
    "    classifier.train()\n",
    "    loader = tqdm(train_loader, postfix={'Epoch': i})\n",
    "    train_losses = []\n",
    "    \n",
    "    for sentences, lengths, targets in loader:\n",
    "        sentences = sentences.to(device)\n",
    "        targets = targets.to(device)\n",
    "        lengths = lengths.to(device)\n",
    "        \n",
    "        optimizer.zero_grad()\n",
    "        \n",
    "        outputs = classifier(sentences, lengths)\n",
    "        \n",
    "        loss = criterion(outputs, targets)\n",
    "        loss.backward()\n",
    "        optimizer.step()\n",
    "        \n",
    "        with torch.no_grad():\n",
    "            train_losses.append(loss.item())\n",
    "            loader.set_postfix({\n",
    "                'Epoch': i,\n",
    "                'Train loss': np.mean(train_losses)\n",
    "            }, refresh=True)\n",
    "    \n",
    "    global_train_losses.append(np.mean(train_losses))\n",
    "    \n",
    "    time.sleep(0.5)\n",
    "    \n",
    "    with torch.no_grad():\n",
    "        classifier.eval()\n",
    "        loader = tqdm(eval_loader, postfix={'Epoch': i,}, colour='green')\n",
    "        eval_losses = []\n",
    "        eval_scores = []\n",
    "\n",
    "        for sentences, lengths, targets in loader:\n",
    "            sentences = sentences.to(device)\n",
    "            targets = targets.to(device)\n",
    "            lengths = lengths.to(device)\n",
    "\n",
    "            outputs = classifier(sentences, lengths)\n",
    "            loss = criterion(outputs, targets)\n",
    "            \n",
    "            score = (outputs.argmax(dim=1) == targets).detach().cpu().numpy()\n",
    "            eval_scores.append(score)\n",
    "            eval_losses.append(loss.item())\n",
    "            loader.set_postfix({\n",
    "                'Epoch': i,\n",
    "                'Eval loss': np.mean(eval_losses),\n",
    "                'Eval score': np.concatenate(eval_scores).mean()\n",
    "            }, refresh=True)\n",
    "\n",
    "\n",
    "        eval_loss = np.mean(eval_losses)\n",
    "        if eval_loss <= min_loss:\n",
    "            min_loss = eval_loss\n",
    "            save_model(classifier, model_file)\n",
    "            loader.write('*** save ***')\n",
    "        \n",
    "    global_eval_losses.append(np.mean(eval_losses))\n",
    "    \n",
    "    time.sleep(0.5)"
   ]
  },
  {
   "cell_type": "markdown",
   "metadata": {},
   "source": [
    "### Plots"
   ]
  },
  {
   "cell_type": "code",
   "execution_count": 27,
   "metadata": {},
   "outputs": [
    {
     "data": {
      "image/png": "[encoded data removed]",
      "text/plain": [
       "<Figure size 432x288 with 1 Axes>"
      ]
     },
     "metadata": {
      "needs_background": "light"
     },
     "output_type": "display_data"
    }
   ],
   "source": [
    "plt.plot(range(num_epochs), global_train_losses, label='Train. Loss', color='blue')\n",
    "plt.plot(range(num_epochs), global_eval_losses, label='Eval. Loss', color='red')\n",
    "\n",
    "plt.legend()\n",
    "plt.show()"
   ]
  },
  {
   "cell_type": "code",
   "execution_count": null,
   "metadata": {},
   "outputs": [],
   "source": []
  }
 ],
 "metadata": {
  "kernelspec": {
   "display_name": "Python 3",
   "language": "python",
   "name": "python3"
  },
  "language_info": {
   "codemirror_mode": {
    "name": "ipython",
    "version": 3
   },
   "file_extension": ".py",
   "mimetype": "text/x-python",
   "name": "python",
   "nbconvert_exporter": "python",
   "pygments_lexer": "ipython3",
   "version": "3.8.10"
  }
 },
 "nbformat": 4,
 "nbformat_minor": 4
}
